{
 "cells": [
  {
   "attachments": {},
   "cell_type": "markdown",
   "metadata": {},
   "source": [
    "# Regression Methods for Housing Data\n",
    "## Matthew Kielar\n",
    "### ECON 323 001"
   ]
  },
  {
   "attachments": {},
   "cell_type": "markdown",
   "metadata": {},
   "source": [
    "## Introduction"
   ]
  },
  {
   "attachments": {},
   "cell_type": "markdown",
   "metadata": {},
   "source": [
    "Throughout the last decade or so, the issue of housing prices has made frequent appearances in newspaper headlines and policymaking circles have often described it as a crisis, especially so in Canada. This begs an important question: what is the extent of this crisis, and how exactly can we assess housing markets in other places? \n",
    "\n",
    "To answer this question, it is therefore worth spending some time to put the absurdity of Canada's housing prices into perspective, as well figuring out how to best predict housing values using publicly available data. While policy recommendations are unlikely to be found below, there is nonetheless a good opportunity to get a clearer view into one of the most pressing public policy challenges of our time. "
   ]
  },
  {
   "attachments": {},
   "cell_type": "markdown",
   "metadata": {},
   "source": [
    "## Setup \n",
    "\n",
    "First, we'll start by importing the requisite libraries for transforming data and generating plots. I personally think that `matplotlib` is an atrocity that should be destroyed in nuclear fire, so we'll be using `plotnine`, which is a nice python wrapper for the excellent ggplot2 library. "
   ]
  },
  {
   "cell_type": "code",
   "execution_count": 94,
   "metadata": {},
   "outputs": [],
   "source": [
    "import pandas as pd\n",
    "from pandas import DataFrame as df\n",
    "import numpy as np\n",
    "import matplotlib.pyplot as plt\n",
    "from plotnine import *"
   ]
  },
  {
   "attachments": {},
   "cell_type": "markdown",
   "metadata": {},
   "source": [
    "Now we can get to importing and transforming the datasets we'll be using for preliminary plotting.\n",
    "\n",
    "The first dataset is titled `can_property_prices`, and it tracks the real, non-seasonally adjusted price of a residential property in Canada between 2000 and 2020. The second dataset is titled `can_income`, which tracks real individual income in Canada from 2000 to 2020. "
   ]
  },
  {
   "cell_type": "code",
   "execution_count": 80,
   "metadata": {},
   "outputs": [
    {
     "data": {
      "text/html": [
       "<div>\n",
       "<style scoped>\n",
       "    .dataframe tbody tr th:only-of-type {\n",
       "        vertical-align: middle;\n",
       "    }\n",
       "\n",
       "    .dataframe tbody tr th {\n",
       "        vertical-align: top;\n",
       "    }\n",
       "\n",
       "    .dataframe thead th {\n",
       "        text-align: right;\n",
       "    }\n",
       "</style>\n",
       "<table border=\"1\" class=\"dataframe\">\n",
       "  <thead>\n",
       "    <tr style=\"text-align: right;\">\n",
       "      <th></th>\n",
       "      <th>Date</th>\n",
       "      <th>Percent</th>\n",
       "    </tr>\n",
       "  </thead>\n",
       "  <tbody>\n",
       "    <tr>\n",
       "      <th>0</th>\n",
       "      <td>2000-01-01</td>\n",
       "      <td>54.9799</td>\n",
       "    </tr>\n",
       "    <tr>\n",
       "      <th>1</th>\n",
       "      <td>2000-04-01</td>\n",
       "      <td>55.5592</td>\n",
       "    </tr>\n",
       "    <tr>\n",
       "      <th>2</th>\n",
       "      <td>2000-07-01</td>\n",
       "      <td>54.9213</td>\n",
       "    </tr>\n",
       "    <tr>\n",
       "      <th>3</th>\n",
       "      <td>2000-10-01</td>\n",
       "      <td>55.1145</td>\n",
       "    </tr>\n",
       "    <tr>\n",
       "      <th>4</th>\n",
       "      <td>2001-01-01</td>\n",
       "      <td>54.8502</td>\n",
       "    </tr>\n",
       "  </tbody>\n",
       "</table>\n",
       "</div>"
      ],
      "text/plain": [
       "         Date  Percent\n",
       "0  2000-01-01  54.9799\n",
       "1  2000-04-01  55.5592\n",
       "2  2000-07-01  54.9213\n",
       "3  2000-10-01  55.1145\n",
       "4  2001-01-01  54.8502"
      ]
     },
     "execution_count": 80,
     "metadata": {},
     "output_type": "execute_result"
    }
   ],
   "source": [
    "prop_prices_can = pd.read_csv(\"can_property_prices.csv\")\n",
    "income_can = pd.read_csv(\"can_income.csv\")\n",
    "\n",
    "prop_prices_can = (\n",
    "    prop_prices_can.\n",
    "    rename(columns = {\"DATE\": \"Date\", \"QCAR628BIS\": \"Percent\"})\n",
    ")\n",
    "\n",
    "prop_prices_can.head()"
   ]
  },
  {
   "attachments": {},
   "cell_type": "markdown",
   "metadata": {},
   "source": [
    "The resulting `prop_prices_can` dataframe has already had its primary series 'rebased.' This means that each value is represented as a percentage of a specific value at a chosen index. In this case, January 2010 has been chosen as the baseline. \n",
    "\n",
    "Now to tidy up the income dataset:"
   ]
  },
  {
   "cell_type": "code",
   "execution_count": 81,
   "metadata": {},
   "outputs": [
    {
     "data": {
      "text/html": [
       "<div>\n",
       "<style scoped>\n",
       "    .dataframe tbody tr th:only-of-type {\n",
       "        vertical-align: middle;\n",
       "    }\n",
       "\n",
       "    .dataframe tbody tr th {\n",
       "        vertical-align: top;\n",
       "    }\n",
       "\n",
       "    .dataframe thead th {\n",
       "        text-align: right;\n",
       "    }\n",
       "</style>\n",
       "<table border=\"1\" class=\"dataframe\">\n",
       "  <thead>\n",
       "    <tr style=\"text-align: right;\">\n",
       "      <th></th>\n",
       "      <th>Date</th>\n",
       "      <th>Income</th>\n",
       "      <th>Rebased</th>\n",
       "    </tr>\n",
       "  </thead>\n",
       "  <tbody>\n",
       "    <tr>\n",
       "      <th>0</th>\n",
       "      <td>2000</td>\n",
       "      <td>30700</td>\n",
       "      <td>91.641791</td>\n",
       "    </tr>\n",
       "    <tr>\n",
       "      <th>1</th>\n",
       "      <td>2001</td>\n",
       "      <td>31600</td>\n",
       "      <td>94.328358</td>\n",
       "    </tr>\n",
       "    <tr>\n",
       "      <th>2</th>\n",
       "      <td>2002</td>\n",
       "      <td>31500</td>\n",
       "      <td>94.029851</td>\n",
       "    </tr>\n",
       "    <tr>\n",
       "      <th>3</th>\n",
       "      <td>2003</td>\n",
       "      <td>31400</td>\n",
       "      <td>93.731343</td>\n",
       "    </tr>\n",
       "    <tr>\n",
       "      <th>4</th>\n",
       "      <td>2004</td>\n",
       "      <td>31800</td>\n",
       "      <td>94.925373</td>\n",
       "    </tr>\n",
       "  </tbody>\n",
       "</table>\n",
       "</div>"
      ],
      "text/plain": [
       "   Date  Income    Rebased\n",
       "0  2000   30700  91.641791\n",
       "1  2001   31600  94.328358\n",
       "2  2002   31500  94.029851\n",
       "3  2003   31400  93.731343\n",
       "4  2004   31800  94.925373"
      ]
     },
     "execution_count": 81,
     "metadata": {},
     "output_type": "execute_result"
    }
   ],
   "source": [
    "income_can = (\n",
    "    income_can[\n",
    "        (income_can['Statistics'] == 'Median income (excluding zeros)')].\n",
    "    filter(items = ['REF_DATE', 'VALUE']).\n",
    "    rename(columns = {\"REF_DATE\": \"Date\", \"VALUE\": \"Income\"}).\n",
    "    reset_index().\n",
    "    drop('index', axis = 1)\n",
    ")\n",
    "\n",
    "base = income_can.loc[income_can['Date'] == 2010]['Income'].values[0]\n",
    "income_can['Rebased'] = income_can['Income'] / base * 100\n",
    "\n",
    "income_can.head()"
   ]
  },
  {
   "attachments": {},
   "cell_type": "markdown",
   "metadata": {},
   "source": [
    "Before diving into data visualization, I'll briefly set the plot theme so I don't have to explicitly construct it every time I create a plot. I'm personally a fan of\n",
    "lightweight and somewhat minimalist themes instead of ones saturated with pointless junk, so I'll do my best to live up to that philosophy here. "
   ]
  },
  {
   "cell_type": "code",
   "execution_count": 82,
   "metadata": {},
   "outputs": [],
   "source": [
    "plot_theme = theme(\n",
    "    plot_title = element_text(\n",
    "        face = \"bold\", size = 12, hjust = 0),\n",
    "    plot_caption = element_text(\n",
    "        size = 10, hjust = 0),\n",
    "    axis_title_x = element_text(\n",
    "        face = \"bold\", size = 12),\n",
    "    axis_title_y = element_text(\n",
    "        face = \"bold\", size = 12, angle = 90),\n",
    "    axis_text = element_text(\n",
    "        size = 12),\n",
    "    panel_grid_major_x = element_blank(),\n",
    "    panel_grid_minor_x = element_blank(),\n",
    "    panel_grid_major_y = element_line(\n",
    "        size = 0.1, color = \"#808080\"),\n",
    "    panel_grid_minor_y = element_line(\n",
    "        size = 0.1, color = \"#808080\"),\n",
    "    panel_background = element_rect(\n",
    "        fill = \"#FFFFFF\"),\n",
    "    panel_border = element_rect(\n",
    "        fill = \"#000000\", size = 1.0),\n",
    "    plot_background = element_rect(\n",
    "        fill = \"#FFFFFF\"),\n",
    "    legend_title = element_text(\n",
    "        face = \"bold\", size = 12),\n",
    "    legend_text = element_text(\n",
    "        size = 12),\n",
    "    legend_background = element_rect(\n",
    "        fill = \"#FFFFFF\"),\n",
    "    legend_key = element_rect(\n",
    "        fill = \"#FFFFFF\")\n",
    ")"
   ]
  },
  {
   "attachments": {},
   "cell_type": "markdown",
   "metadata": {},
   "source": [
    "## Plotting"
   ]
  },
  {
   "attachments": {},
   "cell_type": "markdown",
   "metadata": {},
   "source": [
    "Now we can get to plotting some time-series charts to get a better picture of the motivation behind the analysis in this project. After all, a picture is worth a thousand words, and this situation is no exception. That aside, let's see just how much property prices have gone haywire over the last two decades."
   ]
  },
  {
   "cell_type": "code",
   "execution_count": 83,
   "metadata": {},
   "outputs": [
    {
     "data": {
      "image/png": "[encoded data removed]",
      "text/plain": [
       "<Figure size 640x480 with 1 Axes>"
      ]
     },
     "metadata": {},
     "output_type": "display_data"
    },
    {
     "data": {
      "text/plain": [
       "<ggplot: (93127655280)>"
      ]
     },
     "execution_count": 83,
     "metadata": {},
     "output_type": "execute_result"
    }
   ],
   "source": [
    "price_chart = (ggplot(\n",
    "    data = prop_prices_can,\n",
    "    mapping = aes(\n",
    "        x = 'Date', y = 'Percent', group = 1)\n",
    "    ) +\n",
    "    geom_line(\n",
    "        color = '#F60552', size = 1.2\n",
    "    ) +\n",
    "    labs(\n",
    "        x = 'Date', \n",
    "        y = 'Percentage (2010 = 100)',\n",
    "        title = 'Residential Property Prices in Canada Since 2000'\n",
    "    ) +\n",
    "    scale_x_date(\n",
    "        date_breaks = \"5 years\"\n",
    "    ) +\n",
    "    plot_theme\n",
    ")\n",
    "\n",
    "price_chart"
   ]
  },
  {
   "attachments": {},
   "cell_type": "markdown",
   "metadata": {},
   "source": [
    "This is pretty staggering. The median price of a residential property in Canada increased by approximately 55% between 2010 and 2020. Obviously this proceeded to climb even more following a torrent of monetary stimulus during the Covid pandemic that sent asset prices skyrocketing, but it's still astonishing nonetheless.\n",
    "\n",
    "But how have incomes fared during that same period?"
   ]
  },
  {
   "cell_type": "code",
   "execution_count": 84,
   "metadata": {},
   "outputs": [
    {
     "data": {
      "image/png": "[encoded data removed]",
      "text/plain": [
       "<Figure size 640x480 with 1 Axes>"
      ]
     },
     "metadata": {},
     "output_type": "display_data"
    },
    {
     "data": {
      "text/plain": [
       "<ggplot: (93127590623)>"
      ]
     },
     "execution_count": 84,
     "metadata": {},
     "output_type": "execute_result"
    }
   ],
   "source": [
    "income_chart = (ggplot(\n",
    "    data = income_can) +\n",
    "    geom_line(\n",
    "        aes(x = 'Date', y = 'Rebased'),\n",
    "        color = '#96CC28', size = 1.2\n",
    "    ) +\n",
    "    labs(\n",
    "        x = 'Date',\n",
    "        y = 'Percentage (2010 = 100)',\n",
    "        title = 'Real Canadian Income Since 2000'\n",
    "    ) +\n",
    "    scale_y_continuous(\n",
    "        limits = (90, 120)\n",
    "    ) +\n",
    "    plot_theme\n",
    ")\n",
    "\n",
    "income_chart"
   ]
  },
  {
   "attachments": {},
   "cell_type": "markdown",
   "metadata": {},
   "source": [
    "The first way to describe to above trend is 'not good.' Between 2010 and 2020, median individual income in Canada increased by around 15%. This is pretty pitiful on its own, but when juxtaposed against the massive increase in housing prices over the same time period, it becomes even more astonishing. Residential property prices have increased over __three times__ as much as income over the last decade, enough to make New York look like a beacon of affordability."
   ]
  },
  {
   "attachments": {},
   "cell_type": "markdown",
   "metadata": {},
   "source": [
    "## Now what?"
   ]
  },
  {
   "attachments": {},
   "cell_type": "markdown",
   "metadata": {},
   "source": [
    "So now that the extent to which housing markets are detached from reality has been put on clear display, predicting property values and analyzing which methods are the best at doing so seems like a particularly salient task to undertake. \n",
    "\n",
    "For this, a dataset of housing values in Boston as well as some pertinent variables obtained from a census survey seems like an ideal choice. The dataset can be broken down as follows:\n",
    "\n",
    "1. CRIM - per capita crime rate by town\n",
    "2. ZN - proportion of residential land zoned for lots over 25,000 sq.ft.\n",
    "3. INDUS - proportion of non-retail business acres per town.\n",
    "4. CHAS - Charles River dummy variable (1 if tract bounds river; 0 otherwise)\n",
    "5. NOX - nitric oxides concentration (parts per 10 million)\n",
    "6. RM - average number of rooms per dwelling\n",
    "7. AGE - proportion of owner-occupied units built prior to 1940\n",
    "8. DIS - weighted distances to five Boston employment centres\n",
    "9. RAD - index of accessibility to radial highways\n",
    "10. TAX - full-value property-tax rate per $10,000\n",
    "11. PTRATIO - pupil-teacher ratio by town\n",
    "12. B - 1000(Bk - 0.63)^2 where Bk is the proportion of blacks by town\n",
    "13. LSTAT - % lower status of the population\n",
    "14. MEDV - Median value of owner-occupied homes in $1000's"
   ]
  },
  {
   "attachments": {},
   "cell_type": "markdown",
   "metadata": {},
   "source": [
    "## Pre-processing"
   ]
  },
  {
   "attachments": {},
   "cell_type": "markdown",
   "metadata": {},
   "source": [
    "Before any modelling can be done, it's probably best to pre-process the data and split it into a train and test set for evaluation purposes."
   ]
  },
  {
   "cell_type": "code",
   "execution_count": 85,
   "metadata": {},
   "outputs": [
    {
     "data": {
      "text/html": [
       "<div>\n",
       "<style scoped>\n",
       "    .dataframe tbody tr th:only-of-type {\n",
       "        vertical-align: middle;\n",
       "    }\n",
       "\n",
       "    .dataframe tbody tr th {\n",
       "        vertical-align: top;\n",
       "    }\n",
       "\n",
       "    .dataframe thead th {\n",
       "        text-align: right;\n",
       "    }\n",
       "</style>\n",
       "<table border=\"1\" class=\"dataframe\">\n",
       "  <thead>\n",
       "    <tr style=\"text-align: right;\">\n",
       "      <th></th>\n",
       "      <th>CRIM</th>\n",
       "      <th>ZN</th>\n",
       "      <th>INDUS</th>\n",
       "      <th>CHAS</th>\n",
       "      <th>NOX</th>\n",
       "      <th>RM</th>\n",
       "      <th>AGE</th>\n",
       "      <th>DIS</th>\n",
       "      <th>RAD</th>\n",
       "      <th>TAX</th>\n",
       "      <th>PTRATIO</th>\n",
       "      <th>B</th>\n",
       "      <th>LSTAT</th>\n",
       "      <th>MEDV</th>\n",
       "    </tr>\n",
       "  </thead>\n",
       "  <tbody>\n",
       "    <tr>\n",
       "      <th>0</th>\n",
       "      <td>0.00632</td>\n",
       "      <td>18.0</td>\n",
       "      <td>2.31</td>\n",
       "      <td>0</td>\n",
       "      <td>0.538</td>\n",
       "      <td>6.575</td>\n",
       "      <td>65.2</td>\n",
       "      <td>4.0900</td>\n",
       "      <td>1</td>\n",
       "      <td>296</td>\n",
       "      <td>15.3</td>\n",
       "      <td>396.90</td>\n",
       "      <td>4.98</td>\n",
       "      <td>24.0</td>\n",
       "    </tr>\n",
       "    <tr>\n",
       "      <th>1</th>\n",
       "      <td>0.02731</td>\n",
       "      <td>0.0</td>\n",
       "      <td>7.07</td>\n",
       "      <td>0</td>\n",
       "      <td>0.469</td>\n",
       "      <td>6.421</td>\n",
       "      <td>78.9</td>\n",
       "      <td>4.9671</td>\n",
       "      <td>2</td>\n",
       "      <td>242</td>\n",
       "      <td>17.8</td>\n",
       "      <td>396.90</td>\n",
       "      <td>9.14</td>\n",
       "      <td>21.6</td>\n",
       "    </tr>\n",
       "    <tr>\n",
       "      <th>2</th>\n",
       "      <td>0.02729</td>\n",
       "      <td>0.0</td>\n",
       "      <td>7.07</td>\n",
       "      <td>0</td>\n",
       "      <td>0.469</td>\n",
       "      <td>7.185</td>\n",
       "      <td>61.1</td>\n",
       "      <td>4.9671</td>\n",
       "      <td>2</td>\n",
       "      <td>242</td>\n",
       "      <td>17.8</td>\n",
       "      <td>392.83</td>\n",
       "      <td>4.03</td>\n",
       "      <td>34.7</td>\n",
       "    </tr>\n",
       "    <tr>\n",
       "      <th>3</th>\n",
       "      <td>0.03237</td>\n",
       "      <td>0.0</td>\n",
       "      <td>2.18</td>\n",
       "      <td>0</td>\n",
       "      <td>0.458</td>\n",
       "      <td>6.998</td>\n",
       "      <td>45.8</td>\n",
       "      <td>6.0622</td>\n",
       "      <td>3</td>\n",
       "      <td>222</td>\n",
       "      <td>18.7</td>\n",
       "      <td>394.63</td>\n",
       "      <td>2.94</td>\n",
       "      <td>33.4</td>\n",
       "    </tr>\n",
       "    <tr>\n",
       "      <th>4</th>\n",
       "      <td>0.06905</td>\n",
       "      <td>0.0</td>\n",
       "      <td>2.18</td>\n",
       "      <td>0</td>\n",
       "      <td>0.458</td>\n",
       "      <td>7.147</td>\n",
       "      <td>54.2</td>\n",
       "      <td>6.0622</td>\n",
       "      <td>3</td>\n",
       "      <td>222</td>\n",
       "      <td>18.7</td>\n",
       "      <td>396.90</td>\n",
       "      <td>5.33</td>\n",
       "      <td>36.2</td>\n",
       "    </tr>\n",
       "  </tbody>\n",
       "</table>\n",
       "</div>"
      ],
      "text/plain": [
       "      CRIM    ZN  INDUS  CHAS    NOX     RM   AGE     DIS  RAD  TAX  PTRATIO  \\\n",
       "0  0.00632  18.0   2.31     0  0.538  6.575  65.2  4.0900    1  296     15.3   \n",
       "1  0.02731   0.0   7.07     0  0.469  6.421  78.9  4.9671    2  242     17.8   \n",
       "2  0.02729   0.0   7.07     0  0.469  7.185  61.1  4.9671    2  242     17.8   \n",
       "3  0.03237   0.0   2.18     0  0.458  6.998  45.8  6.0622    3  222     18.7   \n",
       "4  0.06905   0.0   2.18     0  0.458  7.147  54.2  6.0622    3  222     18.7   \n",
       "\n",
       "        B  LSTAT  MEDV  \n",
       "0  396.90   4.98  24.0  \n",
       "1  396.90   9.14  21.6  \n",
       "2  392.83   4.03  34.7  \n",
       "3  394.63   2.94  33.4  \n",
       "4  396.90   5.33  36.2  "
      ]
     },
     "execution_count": 85,
     "metadata": {},
     "output_type": "execute_result"
    }
   ],
   "source": [
    "# Import libraries for modelling\n",
    "from sklearn import model_selection, linear_model\n",
    "import statsmodels.api as sm\n",
    "from skranger.ensemble import RangerForestRegressor\n",
    "\n",
    "boston = pd.read_csv(\"boston.csv\")\n",
    "\n",
    "X = boston.drop('MEDV', axis = 1)\n",
    "y = boston['MEDV']\n",
    "\n",
    "boston.head()"
   ]
  },
  {
   "attachments": {},
   "cell_type": "markdown",
   "metadata": {},
   "source": [
    "## Ordinary Least Squares\n",
    "\n",
    "To start, we'll fit an OLS model (a fan favourite of every economist) and use that as a baseline estimate of prediction accuracy that other methods can be compared against. "
   ]
  },
  {
   "cell_type": "code",
   "execution_count": 86,
   "metadata": {},
   "outputs": [],
   "source": [
    "# Fit ordinary least squares model \n",
    "OLS_model = sm.OLS(endog = y_train, exog = X_train)\n",
    "OLS_fit = OLS_model.fit()"
   ]
  },
  {
   "attachments": {},
   "cell_type": "markdown",
   "metadata": {},
   "source": [
    "## Lasso \n",
    "\n",
    "Having fitted a regular linear model, it's also worth exploring if a regularized model can improve prediction accuracy as well as identify which variables aren't that important. \n",
    "\n",
    "While several methods of penalized regression are available, lasso (L1-penalty) is arguably the most popular one due to its ability to shrink coefficient estimates and perform variable selection. Seems like an ideal choice here, right?"
   ]
  },
  {
   "cell_type": "code",
   "execution_count": 87,
   "metadata": {},
   "outputs": [],
   "source": [
    "# Fit L1 regularized regression\n",
    "lasso_model = linear_model.Lasso(alpha = 1.0, warm_start = True)\n",
    "lasso_fit = lasso_model.fit(X = X_train, y = y_train)\n",
    "\n",
    "a = np.exp(np.linspace(10, -2, 50))\n",
    "alphas, coefs_lasso, _ = linear_model.lasso_path(\n",
    "    X_train, y_train, alphas = a, max_iter = 10000)"
   ]
  },
  {
   "attachments": {},
   "cell_type": "markdown",
   "metadata": {},
   "source": [
    "### Coefficient path\n",
    "\n",
    "Having fitted a lasso model to the data, it's also important to visualize the how the coefficients behave with the penalty term, otherwise this entire endeavor would be profoundly pointless.\n",
    "\n",
    "The function below uses the vector of $\\alpha$ defined earlier and returns a plot that is pretty helpful in examining how the strength of the penalty term affects the coefficient estimates:"
   ]
  },
  {
   "cell_type": "code",
   "execution_count": 93,
   "metadata": {},
   "outputs": [
    {
     "data": {
      "image/png": "[encoded data removed]",
      "text/plain": [
       "<Figure size 640x480 with 1 Axes>"
      ]
     },
     "metadata": {},
     "output_type": "display_data"
    },
    {
     "data": {
      "text/plain": [
       "<ggplot: (93125910613)>"
      ]
     },
     "execution_count": 93,
     "metadata": {},
     "output_type": "execute_result"
    }
   ],
   "source": [
    "def lasso_path(X, y, alpha):\n",
    "    \"\"\"\n",
    "    Takes in a matrix of regressors (X), a vector of response \n",
    "    values (y), and a vector of regularization coefficients (alphas)\n",
    "\n",
    "    Obtains lasso coefficients for each iteration over alphas and\n",
    "    plots the resulting coefficient trace in ggplot style\n",
    "    \"\"\"\n",
    "\n",
    "    # Obtain coefficients across the whole lasso path\n",
    "    coefs = []\n",
    "    for a in alpha:\n",
    "        lasso = linear_model.Lasso(alpha = a, fit_intercept = False)\n",
    "        lasso.fit(X, y)\n",
    "        coefs.append(lasso.coef_)\n",
    "    \n",
    "    # Create dataframe for plotting the coefficient path\n",
    "    alpha_coefs = pd.DataFrame(coefs)\n",
    "    alpha_coefs['alpha'] = alphas\n",
    "    colors = [\n",
    "        '#FF8833', '#00A0DD', '#593380', '#0F5499', '#00994D', '#CC1451', \n",
    "        '#CCE6FF', '#990F3D', '#0D7680', '#0F5499', '#593380', '#FF7FAA', \"#0D7680\"]\n",
    "\n",
    "    # Plot the coefficient path \n",
    "    coef_plot = ggplot()\n",
    "    for i in (range(len(list(alpha_coefs.columns)) - 1)):\n",
    "        coef_plot = (\n",
    "            coef_plot + \n",
    "            geom_line(\n",
    "                data = alpha_coefs,\n",
    "                mapping = aes(x = 'alpha', y = alpha_coefs[i]),\n",
    "                size = 1.2,\n",
    "                color = colors[i]) +\n",
    "            plot_theme)\n",
    "    \n",
    "    coef_plot = (\n",
    "        coef_plot +\n",
    "        scale_x_log10() +\n",
    "        labs(\n",
    "            x = \"Alpha\",\n",
    "            y = \"Coefficients\",\n",
    "            title = \"Path of Lasso Coefficients with Varying Alpha\")) \n",
    "    \n",
    "    return coef_plot\n",
    "\n",
    "lasso_path(X = X_train, y = y_train, alpha = alphas)"
   ]
  },
  {
   "attachments": {},
   "cell_type": "markdown",
   "metadata": {},
   "source": [
    "This plot provides a neat visualization of the intuition behind the penalty term ($\\alpha$ in this case) in a regression model. As the strength of the penalty increases, it should make sense that the coefficients shrink since they're being constrained to a smaller region.\n",
    "\n",
    "The plot shows exactly this:\n",
    "\n",
    "* When $\\alpha$ is low, the penalty isn't that strong, and we see several non-zero coefficients.\n",
    "\n",
    "* As $\\alpha$ gets higher, all of the coefficients converge towards zero. \n",
    "\n",
    "But how does this compare with the OLS model fitted earlier?"
   ]
  },
  {
   "cell_type": "code",
   "execution_count": 92,
   "metadata": {},
   "outputs": [
    {
     "data": {
      "text/html": [
       "<div>\n",
       "<style scoped>\n",
       "    .dataframe tbody tr th:only-of-type {\n",
       "        vertical-align: middle;\n",
       "    }\n",
       "\n",
       "    .dataframe tbody tr th {\n",
       "        vertical-align: top;\n",
       "    }\n",
       "\n",
       "    .dataframe thead th {\n",
       "        text-align: right;\n",
       "    }\n",
       "</style>\n",
       "<table border=\"1\" class=\"dataframe\">\n",
       "  <thead>\n",
       "    <tr style=\"text-align: right;\">\n",
       "      <th></th>\n",
       "      <th>OLS</th>\n",
       "      <th>lasso</th>\n",
       "    </tr>\n",
       "  </thead>\n",
       "  <tbody>\n",
       "    <tr>\n",
       "      <th>CRIM</th>\n",
       "      <td>-0.095871</td>\n",
       "      <td>-0.063105</td>\n",
       "    </tr>\n",
       "    <tr>\n",
       "      <th>ZN</th>\n",
       "      <td>0.043577</td>\n",
       "      <td>0.045144</td>\n",
       "    </tr>\n",
       "    <tr>\n",
       "      <th>INDUS</th>\n",
       "      <td>-0.019212</td>\n",
       "      <td>-0.016455</td>\n",
       "    </tr>\n",
       "    <tr>\n",
       "      <th>CHAS</th>\n",
       "      <td>0.590982</td>\n",
       "      <td>0.000000</td>\n",
       "    </tr>\n",
       "    <tr>\n",
       "      <th>NOX</th>\n",
       "      <td>-4.462140</td>\n",
       "      <td>-0.000000</td>\n",
       "    </tr>\n",
       "    <tr>\n",
       "      <th>RM</th>\n",
       "      <td>6.239519</td>\n",
       "      <td>0.972476</td>\n",
       "    </tr>\n",
       "    <tr>\n",
       "      <th>AGE</th>\n",
       "      <td>0.000889</td>\n",
       "      <td>0.025881</td>\n",
       "    </tr>\n",
       "    <tr>\n",
       "      <th>DIS</th>\n",
       "      <td>-0.962428</td>\n",
       "      <td>-0.661936</td>\n",
       "    </tr>\n",
       "    <tr>\n",
       "      <th>RAD</th>\n",
       "      <td>0.156601</td>\n",
       "      <td>0.255765</td>\n",
       "    </tr>\n",
       "    <tr>\n",
       "      <th>TAX</th>\n",
       "      <td>-0.009621</td>\n",
       "      <td>-0.015594</td>\n",
       "    </tr>\n",
       "    <tr>\n",
       "      <th>PTRATIO</th>\n",
       "      <td>-0.427876</td>\n",
       "      <td>-0.754740</td>\n",
       "    </tr>\n",
       "    <tr>\n",
       "      <th>B</th>\n",
       "      <td>0.012501</td>\n",
       "      <td>0.006309</td>\n",
       "    </tr>\n",
       "    <tr>\n",
       "      <th>LSTAT</th>\n",
       "      <td>-0.385406</td>\n",
       "      <td>-0.748205</td>\n",
       "    </tr>\n",
       "  </tbody>\n",
       "</table>\n",
       "</div>"
      ],
      "text/plain": [
       "              OLS     lasso\n",
       "CRIM    -0.095871 -0.063105\n",
       "ZN       0.043577  0.045144\n",
       "INDUS   -0.019212 -0.016455\n",
       "CHAS     0.590982  0.000000\n",
       "NOX     -4.462140 -0.000000\n",
       "RM       6.239519  0.972476\n",
       "AGE      0.000889  0.025881\n",
       "DIS     -0.962428 -0.661936\n",
       "RAD      0.156601  0.255765\n",
       "TAX     -0.009621 -0.015594\n",
       "PTRATIO -0.427876 -0.754740\n",
       "B        0.012501  0.006309\n",
       "LSTAT   -0.385406 -0.748205"
      ]
     },
     "execution_count": 92,
     "metadata": {},
     "output_type": "execute_result"
    }
   ],
   "source": [
    "OLS_coefs = OLS_fit.params\n",
    "lasso_coefs = lasso_fit.coef_\n",
    "\n",
    "coef_table = pd.DataFrame()\n",
    "coef_table['OLS'] = OLS_coefs\n",
    "coef_table['lasso'] = lasso_coefs\n",
    "\n",
    "coef_table"
   ]
  },
  {
   "attachments": {},
   "cell_type": "markdown",
   "metadata": {},
   "source": [
    "As shown in the table above, a few of the lasso estimates (`CHAS` and `NOX`) have been zeroed out, whereas their OLS counterparts are not exactly the closest thing to zero."
   ]
  },
  {
   "attachments": {},
   "cell_type": "markdown",
   "metadata": {},
   "source": [
    "## Random Forest"
   ]
  },
  {
   "attachments": {},
   "cell_type": "markdown",
   "metadata": {},
   "source": [
    "Although regression methods are particularly powerful, it's also worth exploring if tree-based methods offer any advantages for prediction. \n",
    "\n",
    "Below, a random forest model has been fitted with 400 trees and 13 candidate splits for each tree."
   ]
  },
  {
   "cell_type": "code",
   "execution_count": 90,
   "metadata": {},
   "outputs": [],
   "source": [
    "rf_mod = RangerForestRegressor(\n",
    "    n_estimators = 400, mtry = len(boston.columns) - 1, oob_error = True)\n",
    "\n",
    "rf_fit = rf_mod.fit(X_train, y_train)"
   ]
  },
  {
   "attachments": {},
   "cell_type": "markdown",
   "metadata": {},
   "source": [
    "## Assessing Predictions\n",
    "\n",
    "So how good are each of these three models, and which one is the best for out-of-sample predictions?\n",
    "\n",
    "To assess accuracy, different loss functions can be used, but squared-error loss is by far the most common in a regression setting, and it's the one that's used here as well. "
   ]
  },
  {
   "cell_type": "code",
   "execution_count": 91,
   "metadata": {},
   "outputs": [
    {
     "data": {
      "text/html": [
       "<div>\n",
       "<style scoped>\n",
       "    .dataframe tbody tr th:only-of-type {\n",
       "        vertical-align: middle;\n",
       "    }\n",
       "\n",
       "    .dataframe tbody tr th {\n",
       "        vertical-align: top;\n",
       "    }\n",
       "\n",
       "    .dataframe thead th {\n",
       "        text-align: right;\n",
       "    }\n",
       "</style>\n",
       "<table border=\"1\" class=\"dataframe\">\n",
       "  <thead>\n",
       "    <tr style=\"text-align: right;\">\n",
       "      <th></th>\n",
       "      <th>Method</th>\n",
       "      <th>MSE</th>\n",
       "    </tr>\n",
       "  </thead>\n",
       "  <tbody>\n",
       "    <tr>\n",
       "      <th>0</th>\n",
       "      <td>OLS</td>\n",
       "      <td>28.22</td>\n",
       "    </tr>\n",
       "    <tr>\n",
       "      <th>1</th>\n",
       "      <td>Lasso</td>\n",
       "      <td>29.99</td>\n",
       "    </tr>\n",
       "    <tr>\n",
       "      <th>2</th>\n",
       "      <td>RF</td>\n",
       "      <td>7.11</td>\n",
       "    </tr>\n",
       "  </tbody>\n",
       "</table>\n",
       "</div>"
      ],
      "text/plain": [
       "  Method    MSE\n",
       "0    OLS  28.22\n",
       "1  Lasso  29.99\n",
       "2     RF   7.11"
      ]
     },
     "execution_count": 91,
     "metadata": {},
     "output_type": "execute_result"
    }
   ],
   "source": [
    "def mean_square_error(obs, pred):\n",
    "    diff_sq = (obs - pred) ** 2\n",
    "    mse = np.mean(diff_sq)\n",
    "    return mse\n",
    "\n",
    "OLS_preds = OLS_fit.predict(exog = X_test)\n",
    "lasso_preds = lasso_model.predict(X_test)\n",
    "rf_preds = rf_mod.predict(X = X_test)\n",
    "\n",
    "model_errors = {\n",
    "    'Method' : ['OLS', 'Lasso', 'RF'],\n",
    "    'MSE' : [\n",
    "        round(mean_square_error(obs = y_test, pred = OLS_preds), 2),\n",
    "        round(mean_square_error(obs = y_test, pred = lasso_preds), 2),\n",
    "        round(mean_square_error(obs = y_test, pred = rf_preds), 2)\n",
    "    ]\n",
    "}\n",
    "\n",
    "MSE = pd.DataFrame.from_dict(model_errors)\n",
    "MSE"
   ]
  },
  {
   "attachments": {},
   "cell_type": "markdown",
   "metadata": {},
   "source": [
    "It turns out that lasso had the poorest performance, which is surprising since the entire point of regularization is to improve prediction accuracy.\n",
    "\n",
    "On the other hand, random forest left the other models behind in the dust in terms of performance, which is unusual since decision trees normally sacrifice predictive power to improve interpretatbility. This is very interesting indeed, but a detailed explanation is beyond the scope of this project, so I'll leave it here for now."
   ]
  },
  {
   "attachments": {},
   "cell_type": "markdown",
   "metadata": {},
   "source": [
    "## Conclusion\n",
    "\n",
    "While the analysis performed in this project serves as an interesting launchpad for further investigation into the issue of housing prices, there are a few things that one should take into account before applying these methods in greater depth.\n",
    "\n",
    "* OLS is nice and efficient, but data isn't linear all the time, and linear models suffer in the presence of non-linear data.\n",
    "\n",
    "* Regularization works great for high-dimensional data, but some datasets might not have enough predictors for methods like ridge or lasso to offer substantial improvements over OLS. \n",
    "\n",
    "* Tree-based methods like random forest add extra tuning parameters, which have to be chosen carefully.\n",
    "\n",
    "Overall, there is no silver bullet statistical learning solution to prediction problems, and the context of this project is no different. While housing markets have showed some indication of cooling down in recent months, the way they have behaved over the last two decades will continue to puzzle economists and statisticians for some time to come. Although the analysis utilized in this project is trivial in the grand scheme of things, its is nonetheless a snapshot into what methods might be used to predict the next housing crisis."
   ]
  },
  {
   "attachments": {},
   "cell_type": "markdown",
   "metadata": {},
   "source": [
    "__Link to github repository:__\n",
    "\n",
    "[econ323-final-project](https://github.com/mattkielar/econ323-final-project)"
   ]
  }
 ],
 "metadata": {
  "kernelspec": {
   "display_name": "base",
   "language": "python",
   "name": "python3"
  },
  "language_info": {
   "codemirror_mode": {
    "name": "ipython",
    "version": 3
   },
   "file_extension": ".py",
   "mimetype": "text/x-python",
   "name": "python",
   "nbconvert_exporter": "python",
   "pygments_lexer": "ipython3",
   "version": "3.9.12"
  },
  "orig_nbformat": 4,
  "vscode": {
   "interpreter": {
    "hash": "8607d81fc6318cb05ed35a8010608a8fe3010a47ba3e0e927835a55241641039"
   }
  }
 },
 "nbformat": 4,
 "nbformat_minor": 2
}
